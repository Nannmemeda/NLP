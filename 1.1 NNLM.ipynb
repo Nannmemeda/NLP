{
 "cells": [
  {
   "cell_type": "code",
   "execution_count": 1,
   "metadata": {},
   "outputs": [],
   "source": [
    "import torch\n",
    "import torch.nn as nn\n",
    "import torch.optim as optim"
   ]
  },
  {
   "cell_type": "code",
   "execution_count": null,
   "metadata": {},
   "outputs": [],
   "source": [
    "class NNLM(nn.Module):\n",
    "    def _init_(self):\n",
    "        self.C = nn.Embedding(vec_size,embeeding_size)\n",
    "        self.H = nn.Linear(n_steps * embedding_size, n_hidden, bias = False)\n",
    "        self.d = nn.Parameter(torch.ones(n_hidden))\n",
    "        self.U = nn.Linear(n_hidden, vec_size, bias = False)\n",
    "        self.W = nn.Linear(n_steps * embedding_size, vec_size, bias = False)\n",
    "        self.b = nn.Parameter(torch.ones(vec_size))\n",
    "    def forward(self,X):\n",
    "        X = self.C(X)\n",
    "        X = X.view(-1, n_steps * embedding_size)\n",
    "        tanh = torch.tanh(self.d + self.H(X))\n",
    "        output = self.b + self.W(X) + self.U(tanh)\n",
    "        return output"
   ]
  }
 ],
 "metadata": {
  "kernelspec": {
   "display_name": "Python 3",
   "language": "python",
   "name": "python3"
  },
  "language_info": {
   "codemirror_mode": {
    "name": "ipython",
    "version": 3
   },
   "file_extension": ".py",
   "mimetype": "text/x-python",
   "name": "python",
   "nbconvert_exporter": "python",
   "pygments_lexer": "ipython3",
   "version": "3.11.2"
  }
 },
 "nbformat": 4,
 "nbformat_minor": 2
}
